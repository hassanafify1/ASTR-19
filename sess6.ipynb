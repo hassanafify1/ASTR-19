{
  "metadata": {
    "kernelspec": {
      "name": "python",
      "display_name": "Python (Pyodide)",
      "language": "python"
    },
    "language_info": {
      "codemirror_mode": {
        "name": "python",
        "version": 3
      },
      "file_extension": ".py",
      "mimetype": "text/x-python",
      "name": "python",
      "nbconvert_exporter": "python",
      "pygments_lexer": "ipython3",
      "version": "3.8"
    }
  },
  "nbformat_minor": 4,
  "nbformat": 4,
  "cells": [
    {
      "cell_type": "code",
      "source": "import numpy as np",
      "metadata": {
        "trusted": true
      },
      "outputs": [],
      "execution_count": 1
    },
    {
      "cell_type": "code",
      "source": "def sin_function(x):\n    return np.sin(x)",
      "metadata": {
        "trusted": true
      },
      "outputs": [],
      "execution_count": 2
    },
    {
      "cell_type": "code",
      "source": "def cos_function(x):\n    return np.cos(x)",
      "metadata": {
        "trusted": true
      },
      "outputs": [],
      "execution_count": 3
    },
    {
      "cell_type": "code",
      "source": "xvalues = np.linspace(0, 2*np.pi, 1000)\nsin_values = sin_function(xvalues)\ncos_values = cos_function(xvalues)",
      "metadata": {
        "trusted": true
      },
      "outputs": [],
      "execution_count": 4
    },
    {
      "cell_type": "code",
      "source": "print(f\"{'x':>10} {'sin(x)':>10} {'cos(x)':>10}\")\nprint(\"-\" * 30)",
      "metadata": {
        "trusted": true
      },
      "outputs": [
        {
          "name": "stdout",
          "text": "         x     sin(x)     cos(x)\n------------------------------\n",
          "output_type": "stream"
        }
      ],
      "execution_count": 5
    },
    {
      "cell_type": "code",
      "source": "for i in range(10):\n    print(f\"{xvalues[i]:>10.4f} {sin_values[i]:>10.4f} {cos_values[i]:>10.4f}\")",
      "metadata": {
        "trusted": true
      },
      "outputs": [
        {
          "name": "stdout",
          "text": "    0.0000     0.0000     1.0000\n    0.0063     0.0063     1.0000\n    0.0126     0.0126     0.9999\n    0.0189     0.0189     0.9998\n    0.0252     0.0252     0.9997\n    0.0314     0.0314     0.9995\n    0.0377     0.0377     0.9993\n    0.0440     0.0440     0.9990\n    0.0503     0.0503     0.9987\n    0.0566     0.0566     0.9984\n",
          "output_type": "stream"
        }
      ],
      "execution_count": 6
    },
    {
      "cell_type": "code",
      "source": "",
      "metadata": {
        "trusted": true
      },
      "outputs": [],
      "execution_count": null
    }
  ]
}